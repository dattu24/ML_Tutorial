{
  "nbformat": 4,
  "nbformat_minor": 0,
  "metadata": {
    "colab": {
      "name": "mltask2.ipynb",
      "provenance": [],
      "collapsed_sections": []
    },
    "kernelspec": {
      "name": "python3",
      "display_name": "Python 3"
    }
  },
  "cells": [
    {
      "cell_type": "code",
      "metadata": {
        "id": "UaBAEwpSlkds"
      },
      "source": [
        "import numpy as np\r\n",
        "from matplotlib import pyplot as plt "
      ],
      "execution_count": 5,
      "outputs": []
    },
    {
      "cell_type": "code",
      "metadata": {
        "id": "ECSBlAGfmI7a"
      },
      "source": [
        "x=[1,2,3]\r\n",
        "t=[1.2,1.9,3.2]\r\n",
        "N=len(x)"
      ],
      "execution_count": 6,
      "outputs": []
    },
    {
      "cell_type": "code",
      "metadata": {
        "id": "jE8uNngwmvPj"
      },
      "source": [
        "def parameters(x,y):\r\n",
        "    A = np.sum(x)\r\n",
        "    B = np.sum(t)\r\n",
        "    C = np.dot(x,x)\r\n",
        "    D = np.dot(x,t)\r\n",
        "    \r\n",
        "    w1 = (B*A - D*N)/(pow(A,2) - N*C)\r\n",
        "    w0 = (D - w1*C)/A\r\n",
        "    return [w0,w1]"
      ],
      "execution_count": 7,
      "outputs": []
    },
    {
      "cell_type": "code",
      "metadata": {
        "id": "bx9OpbEmoT1X",
        "colab": {
          "base_uri": "https://localhost:8080/",
          "height": 282
        },
        "outputId": "eea9a99a-728b-44b0-ff30-2c59edf392e2"
      },
      "source": [
        "intercept,slope = parameters(x,t)\r\n",
        "y_eqt = []\r\n",
        "for i in range(len(x)) :\r\n",
        "    y_eqt.append(slope*x[i] + intercept)\r\n",
        "plt.scatter(x,t)\r\n",
        "plt.plot(x,y_eqt)"
      ],
      "execution_count": 8,
      "outputs": [
        {
          "output_type": "execute_result",
          "data": {
            "text/plain": [
              "[<matplotlib.lines.Line2D at 0x7fbc6e660b00>]"
            ]
          },
          "metadata": {
            "tags": []
          },
          "execution_count": 8
        },
        {
          "output_type": "display_data",
          "data": {
            "image/png": "[encoded data removed]",
            "text/plain": [
              "<Figure size 432x288 with 1 Axes>"
            ]
          },
          "metadata": {
            "tags": [],
            "needs_background": "light"
          }
        }
      ]
    }
  ]
}