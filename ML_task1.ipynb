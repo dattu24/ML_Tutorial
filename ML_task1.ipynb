{
  "nbformat": 4,
  "nbformat_minor": 0,
  "metadata": {
    "colab": {
      "name": "ML_task1.ipynb",
      "provenance": [],
      "collapsed_sections": [],
      "authorship_tag": "ABX9TyMImbTtS0lCOyiq36iwUISU"
    },
    "kernelspec": {
      "name": "python3",
      "display_name": "Python 3"
    }
  },
  "cells": [
    {
      "cell_type": "code",
      "metadata": {
        "id": "jBO0iF_CxGFN"
      },
      "source": [
        "import numpy as np\r\n",
        "import matplotlib.pyplot as plt\r\n",
        "import math\r\n",
        "from numpy import random"
      ],
      "execution_count": 1,
      "outputs": []
    },
    {
      "cell_type": "code",
      "metadata": {
        "id": "TuLu0R1RxTMC"
      },
      "source": [
        "mean,variance = 5,1\r\n",
        "sigma = math.sqrt(variance)"
      ],
      "execution_count": 2,
      "outputs": []
    },
    {
      "cell_type": "code",
      "metadata": {
        "id": "FdWP22fcxUS2"
      },
      "source": [
        "def gaussian(mean,variance,x):\r\n",
        "    return 1/(math.sqrt(2*math.pi)*np.sqrt(variance)) * math.exp(-(x - mean)**2/(2*np.sqrt(variance)**2))"
      ],
      "execution_count": 3,
      "outputs": []
    },
    {
      "cell_type": "code",
      "metadata": {
        "id": "dCDOmRQlxZXi"
      },
      "source": [
        "def likelihood(x, mean):\r\n",
        "    l = 1\r\n",
        "    for i in x:\r\n",
        "        l *= gaussian(mean,1,i)\r\n",
        "    return l"
      ],
      "execution_count": 4,
      "outputs": []
    },
    {
      "cell_type": "code",
      "metadata": {
        "colab": {
          "base_uri": "https://localhost:8080/",
          "height": 298
        },
        "id": "qiW1Feu2xclw",
        "outputId": "6b142ab5-55ce-45db-ba60-27d6c03f95ec"
      },
      "source": [
        "x = random.normal(mean,variance, 10)\r\n",
        "y = [gaussian(mean,variance,i) for i in x]\r\n",
        "plt.plot(x, y, 'mo',color='red')\r\n",
        "plt.title(\"Gaussian Distribution\")"
      ],
      "execution_count": 5,
      "outputs": [
        {
          "output_type": "execute_result",
          "data": {
            "text/plain": [
              "Text(0.5, 1.0, 'Gaussian Distribution')"
            ]
          },
          "metadata": {
            "tags": []
          },
          "execution_count": 5
        },
        {
          "output_type": "display_data",
          "data": {
            "image/png": "[encoded data removed]",
            "text/plain": [
              "<Figure size 432x288 with 1 Axes>"
            ]
          },
          "metadata": {
            "tags": [],
            "needs_background": "light"
          }
        }
      ]
    },
    {
      "cell_type": "code",
      "metadata": {
        "colab": {
          "base_uri": "https://localhost:8080/",
          "height": 312
        },
        "id": "nUrVC7MMxsDT",
        "outputId": "15cd7eb0-012c-4df3-bd6f-d7db06824245"
      },
      "source": [
        "means = [0]*11\r\n",
        "likelihoods = [0]*11\r\n",
        "for i in range(0, 11):\r\n",
        "    likelihoods[i] = likelihood(x, i)\r\n",
        "    means[i] = i\r\n",
        "plt.plot(means, likelihoods, 'b',color='red')\r\n",
        "plt.xlabel(\"Mean\")\r\n",
        "plt.ylabel(\"Likelihood\")\r\n",
        "plt.title(\"Likelihood curve\")"
      ],
      "execution_count": 6,
      "outputs": [
        {
          "output_type": "execute_result",
          "data": {
            "text/plain": [
              "Text(0.5, 1.0, 'Likelihood curve')"
            ]
          },
          "metadata": {
            "tags": []
          },
          "execution_count": 6
        },
        {
          "output_type": "display_data",
          "data": {
            "image/png": "[encoded data removed]",
            "text/plain": [
              "<Figure size 432x288 with 1 Axes>"
            ]
          },
          "metadata": {
            "tags": [],
            "needs_background": "light"
          }
        }
      ]
    },
    {
      "cell_type": "code",
      "metadata": {
        "colab": {
          "base_uri": "https://localhost:8080/",
          "height": 312
        },
        "id": "geebVWexyJbE",
        "outputId": "e8e1c9b0-03c3-4855-d4e3-19ceebb267b7"
      },
      "source": [
        "log_likelihood = [math.log(i) for i in likelihoods]\r\n",
        "plt.plot(means,log_likelihood,'b')\r\n",
        "plt.xlabel(\"Mean\")\r\n",
        "plt.ylabel(\"Log_Likelihood\")\r\n",
        "plt.title(\"Log Likelihood curve\")"
      ],
      "execution_count": 7,
      "outputs": [
        {
          "output_type": "execute_result",
          "data": {
            "text/plain": [
              "Text(0.5, 1.0, 'Log Likelihood curve')"
            ]
          },
          "metadata": {
            "tags": []
          },
          "execution_count": 7
        },
        {
          "output_type": "display_data",
          "data": {
            "image/png": "[encoded data removed]",
            "text/plain": [
              "<Figure size 432x288 with 1 Axes>"
            ]
          },
          "metadata": {
            "tags": [],
            "needs_background": "light"
          }
        }
      ]
    }
  ]
}